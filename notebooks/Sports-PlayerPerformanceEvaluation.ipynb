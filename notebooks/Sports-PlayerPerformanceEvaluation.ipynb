{
 "cells": [
  {
   "cell_type": "code",
   "execution_count": 22,
   "metadata": {
    "collapsed": true
   },
   "outputs": [],
   "source": [
    "# Let us import the main code function with all of it's libraries\n",
    "exec(open(\"Function.py\").read())\n",
    "%matplotlib inline"
   ]
  },
  {
   "cell_type": "markdown",
   "metadata": {},
   "source": [
    "# Load Class Type and Load Exisiting Data\n",
    "Here we create an instance Model from the class. We are only interested in working with data for 2018. Therefore, we can pull up only the data for Season 2018. We then build the dataframe we will be working with by calling the BuildDF function."
   ]
  },
  {
   "cell_type": "code",
   "execution_count": 23,
   "metadata": {},
   "outputs": [
    {
     "name": "stdout",
     "output_type": "stream",
     "text": [
      "Build DF Completed!\n",
      "Train-Test Split Completed!\n"
     ]
    }
   ],
   "source": [
    "Model=NBAWinProbability(Seasons=[2018])\n",
    "Model.BuildDF()\n",
    "Model.TrainTestSplit(train_fraction=0)"
   ]
  },
  {
   "cell_type": "markdown",
   "metadata": {},
   "source": [
    "# Loading Large Trained Logisitic Regression Model\n",
    "Here we load the `.pkl` model for the 2012-17 seasons trained model. Note: we are not traning on 2018 and throught this part we are evaluating 2018 as a test perditction. All of the work we do here is assuming the model has never seen this data prior."
   ]
  },
  {
   "cell_type": "code",
   "execution_count": 24,
   "metadata": {
    "collapsed": true
   },
   "outputs": [],
   "source": [
    "Model.loadModelPersist('2012-17Model.pkl')"
   ]
  },
  {
   "cell_type": "code",
   "execution_count": 25,
   "metadata": {
    "scrolled": true
   },
   "outputs": [
    {
     "name": "stdout",
     "output_type": "stream",
     "text": [
      "Dowloading On Court Player information Completed!\n"
     ]
    }
   ],
   "source": [
    "Model.DownloadPlayerOnCourtInfo()"
   ]
  },
  {
   "cell_type": "markdown",
   "metadata": {},
   "source": [
    "# Evaluating Player's performace based on win probability\n",
    "The way we evaluate players perfomance is based on the model prediction for win probability. \n",
    "\n",
    "### 1. Downloading Players on Court Data\n",
    "In order to obtain the players on court data we must do some web-scraping and interpreting of tables. We go through all of the games of the 2018 season and scape player on-court information from each game from websites like these: https://www.basketball-reference.com/boxscores/plus-minus/201711290LAL.html\n",
    "\n",
    "![title](Data/on_court.png)\n",
    "\n",
    "From a website like this, we go through each div class of a row and obtain the **pixel** information of how large a given range a player was on court. Then, we convert this pixel infromation into a linear map and interpolate between points to obtain the best continuous function for the game time we can get. We then save that into a .csv file that contains each players amount of time on court for each game. More specifically in this .csv file we store the players on court every **5 second** for every player for every game. The player features are designed as -1 if they are playing in the home side team and 1 if they are playing in the away team.\n",
    "\n",
    "Furthermore, we obtain the data on which players are on the court at all times. \n",
    "\n",
    "### 2. Interpolate the win probability\n",
    "We already have the predicted win probability for each game at each event. But the time interval between each event does not much the time interval for the players on court data we have. Therefore we interpolate the win probability array for each game to obtain the win probablity at every 5 second interval, so WP matches with play on court data frame. \n",
    "\n",
    "### 3. Predict with linear regression model\n",
    "The player information is not used in the prediction for the win probability. Instead we join this information from both sources to make up the ranking of each of the players. We obtain the change in win probability for each time and check which players are on court and attribute the change in winning probability to the change in players on the court. We learn a linear regression model on the winning probability output of the logistic regression model and output. The linear regression model takes as input the one-hot vectors of which players are on the court at any given time. It is important to note that the player features are designed as -1 if they are playing in the home side team and 1 if they are playing in the away team. If a player is not playing at an instance of time, their value will be denoted by 0. By doing this we are considering the strength of one team's opponent. The linear regression is learned using this scheme and the **coefficents of the predictors** indicate how valuable the player is in changing the win probability. We extract the values of the coeficients for the linear regression model and rank them based on magnitude. It is also worth mentioning that the code is smart enough to consider overtime correctly.\n",
    "\n",
    "To achive the above goal we call on the function `WP_list()` to generate the win probability prediction for all time of all games in 2018. We then generate the player ranking using the `player_ranking()` function which generates a ranked DataFrame containing all players and their ranked performance using the metric mentioned above."
   ]
  },
  {
   "cell_type": "code",
   "execution_count": 26,
   "metadata": {
    "collapsed": true
   },
   "outputs": [],
   "source": [
    "Model.WP_list()\n",
    "rank=Model.player_ranking()"
   ]
  },
  {
   "cell_type": "markdown",
   "metadata": {},
   "source": [
    "If we look at the Dataframe, we can see the top most valuable players including LeBron James and Giannis Antetokounmpo. This is indicative that when they are on court, their actions largely contribute to increasing the winning probability of the team. Note that here the criterion of measure a players ability is through the changes of WP influenced by that player. In another word, it measures a player's ability to turn the process of a game. It might be successful screens, high level covering defense, or just boost morale of his teammates. None of these can be captured by existing tranditional stats, because they are not and not possible to be recorded. "
   ]
  },
  {
   "cell_type": "code",
   "execution_count": 27,
   "metadata": {},
   "outputs": [
    {
     "data": {
      "text/html": [
       "<div>\n",
       "<style>\n",
       "    .dataframe thead tr:only-child th {\n",
       "        text-align: right;\n",
       "    }\n",
       "\n",
       "    .dataframe thead th {\n",
       "        text-align: left;\n",
       "    }\n",
       "\n",
       "    .dataframe tbody tr th {\n",
       "        vertical-align: top;\n",
       "    }\n",
       "</style>\n",
       "<table border=\"1\" class=\"dataframe\">\n",
       "  <thead>\n",
       "    <tr style=\"text-align: right;\">\n",
       "      <th></th>\n",
       "      <th>coef</th>\n",
       "      <th>time</th>\n",
       "      <th>total</th>\n",
       "      <th>name</th>\n",
       "      <th>Rank</th>\n",
       "    </tr>\n",
       "  </thead>\n",
       "  <tbody>\n",
       "    <tr>\n",
       "      <th>0</th>\n",
       "      <td>0.002734</td>\n",
       "      <td>8502.0</td>\n",
       "      <td>23.246689</td>\n",
       "      <td>Jeff Teague</td>\n",
       "      <td>1.0</td>\n",
       "    </tr>\n",
       "    <tr>\n",
       "      <th>1</th>\n",
       "      <td>0.001728</td>\n",
       "      <td>8870.0</td>\n",
       "      <td>15.326443</td>\n",
       "      <td>Otto Porter</td>\n",
       "      <td>2.0</td>\n",
       "    </tr>\n",
       "    <tr>\n",
       "      <th>2</th>\n",
       "      <td>0.002961</td>\n",
       "      <td>5149.0</td>\n",
       "      <td>15.246939</td>\n",
       "      <td>Tyus Jones</td>\n",
       "      <td>3.0</td>\n",
       "    </tr>\n",
       "    <tr>\n",
       "      <th>3</th>\n",
       "      <td>0.001942</td>\n",
       "      <td>7071.0</td>\n",
       "      <td>13.731552</td>\n",
       "      <td>Joel Embiid</td>\n",
       "      <td>4.0</td>\n",
       "    </tr>\n",
       "    <tr>\n",
       "      <th>4</th>\n",
       "      <td>0.001295</td>\n",
       "      <td>10572.0</td>\n",
       "      <td>13.687375</td>\n",
       "      <td>LeBron James</td>\n",
       "      <td>5.0</td>\n",
       "    </tr>\n",
       "    <tr>\n",
       "      <th>5</th>\n",
       "      <td>0.001475</td>\n",
       "      <td>9272.0</td>\n",
       "      <td>13.673057</td>\n",
       "      <td>Giannis Antetokounmpo</td>\n",
       "      <td>6.0</td>\n",
       "    </tr>\n",
       "    <tr>\n",
       "      <th>6</th>\n",
       "      <td>0.001330</td>\n",
       "      <td>9946.0</td>\n",
       "      <td>13.225438</td>\n",
       "      <td>Bradley Beal</td>\n",
       "      <td>7.0</td>\n",
       "    </tr>\n",
       "    <tr>\n",
       "      <th>7</th>\n",
       "      <td>0.001338</td>\n",
       "      <td>9854.0</td>\n",
       "      <td>13.185781</td>\n",
       "      <td>Taj Gibson</td>\n",
       "      <td>8.0</td>\n",
       "    </tr>\n",
       "    <tr>\n",
       "      <th>8</th>\n",
       "      <td>0.001371</td>\n",
       "      <td>9416.0</td>\n",
       "      <td>12.909097</td>\n",
       "      <td>James Harden</td>\n",
       "      <td>9.0</td>\n",
       "    </tr>\n",
       "    <tr>\n",
       "      <th>9</th>\n",
       "      <td>0.001432</td>\n",
       "      <td>8874.0</td>\n",
       "      <td>12.711584</td>\n",
       "      <td>Al Horford</td>\n",
       "      <td>10.0</td>\n",
       "    </tr>\n",
       "    <tr>\n",
       "      <th>10</th>\n",
       "      <td>0.001430</td>\n",
       "      <td>8618.0</td>\n",
       "      <td>12.322240</td>\n",
       "      <td>Robert Covington</td>\n",
       "      <td>11.0</td>\n",
       "    </tr>\n",
       "    <tr>\n",
       "      <th>11</th>\n",
       "      <td>0.001777</td>\n",
       "      <td>6823.0</td>\n",
       "      <td>12.122346</td>\n",
       "      <td>Garrett Temple</td>\n",
       "      <td>12.0</td>\n",
       "    </tr>\n",
       "    <tr>\n",
       "      <th>12</th>\n",
       "      <td>0.001292</td>\n",
       "      <td>9218.0</td>\n",
       "      <td>11.912959</td>\n",
       "      <td>Brandon Ingram</td>\n",
       "      <td>13.0</td>\n",
       "    </tr>\n",
       "    <tr>\n",
       "      <th>13</th>\n",
       "      <td>0.001570</td>\n",
       "      <td>7106.0</td>\n",
       "      <td>11.156157</td>\n",
       "      <td>Kristaps Porzingis</td>\n",
       "      <td>14.0</td>\n",
       "    </tr>\n",
       "    <tr>\n",
       "      <th>14</th>\n",
       "      <td>0.001794</td>\n",
       "      <td>6192.0</td>\n",
       "      <td>11.106574</td>\n",
       "      <td>Enes Kanter</td>\n",
       "      <td>15.0</td>\n",
       "    </tr>\n",
       "    <tr>\n",
       "      <th>15</th>\n",
       "      <td>0.001040</td>\n",
       "      <td>10376.0</td>\n",
       "      <td>10.788628</td>\n",
       "      <td>Jrue Holiday</td>\n",
       "      <td>16.0</td>\n",
       "    </tr>\n",
       "    <tr>\n",
       "      <th>16</th>\n",
       "      <td>0.001612</td>\n",
       "      <td>6685.0</td>\n",
       "      <td>10.779440</td>\n",
       "      <td>Wesley Johnson</td>\n",
       "      <td>17.0</td>\n",
       "    </tr>\n",
       "    <tr>\n",
       "      <th>17</th>\n",
       "      <td>0.001171</td>\n",
       "      <td>9123.0</td>\n",
       "      <td>10.686375</td>\n",
       "      <td>LaMarcus Aldridge</td>\n",
       "      <td>18.0</td>\n",
       "    </tr>\n",
       "    <tr>\n",
       "      <th>18</th>\n",
       "      <td>0.001281</td>\n",
       "      <td>8340.0</td>\n",
       "      <td>10.680582</td>\n",
       "      <td>Gary Harris</td>\n",
       "      <td>19.0</td>\n",
       "    </tr>\n",
       "    <tr>\n",
       "      <th>19</th>\n",
       "      <td>0.001428</td>\n",
       "      <td>7465.0</td>\n",
       "      <td>10.657868</td>\n",
       "      <td>Eric Gordon</td>\n",
       "      <td>20.0</td>\n",
       "    </tr>\n",
       "  </tbody>\n",
       "</table>\n",
       "</div>"
      ],
      "text/plain": [
       "        coef     time      total                   name  Rank\n",
       "0   0.002734   8502.0  23.246689            Jeff Teague   1.0\n",
       "1   0.001728   8870.0  15.326443            Otto Porter   2.0\n",
       "2   0.002961   5149.0  15.246939             Tyus Jones   3.0\n",
       "3   0.001942   7071.0  13.731552            Joel Embiid   4.0\n",
       "4   0.001295  10572.0  13.687375           LeBron James   5.0\n",
       "5   0.001475   9272.0  13.673057  Giannis Antetokounmpo   6.0\n",
       "6   0.001330   9946.0  13.225438           Bradley Beal   7.0\n",
       "7   0.001338   9854.0  13.185781             Taj Gibson   8.0\n",
       "8   0.001371   9416.0  12.909097           James Harden   9.0\n",
       "9   0.001432   8874.0  12.711584             Al Horford  10.0\n",
       "10  0.001430   8618.0  12.322240       Robert Covington  11.0\n",
       "11  0.001777   6823.0  12.122346         Garrett Temple  12.0\n",
       "12  0.001292   9218.0  11.912959         Brandon Ingram  13.0\n",
       "13  0.001570   7106.0  11.156157     Kristaps Porzingis  14.0\n",
       "14  0.001794   6192.0  11.106574            Enes Kanter  15.0\n",
       "15  0.001040  10376.0  10.788628           Jrue Holiday  16.0\n",
       "16  0.001612   6685.0  10.779440         Wesley Johnson  17.0\n",
       "17  0.001171   9123.0  10.686375      LaMarcus Aldridge  18.0\n",
       "18  0.001281   8340.0  10.680582            Gary Harris  19.0\n",
       "19  0.001428   7465.0  10.657868            Eric Gordon  20.0"
      ]
     },
     "execution_count": 27,
     "metadata": {},
     "output_type": "execute_result"
    }
   ],
   "source": [
    "rank.head(20)"
   ]
  }
 ],
 "metadata": {
  "kernelspec": {
   "display_name": "Python [default]",
   "language": "python",
   "name": "python3"
  },
  "language_info": {
   "codemirror_mode": {
    "name": "ipython",
    "version": 3
   },
   "file_extension": ".py",
   "mimetype": "text/x-python",
   "name": "python",
   "nbconvert_exporter": "python",
   "pygments_lexer": "ipython3",
   "version": "3.6.1"
  }
 },
 "nbformat": 4,
 "nbformat_minor": 2
}
